{
 "cells": [
  {
   "cell_type": "markdown",
   "metadata": {
    "deletable": true,
    "editable": true
   },
   "source": [
    "# P26 Generate the combinations of K distinct objects chosen from the N elements of a list\n",
    "In how many ways can a committee of 3 be chosen from a group of 12 people? We all know that there are C(12,3) = 220 possibilities (C(N,K) denotes the well-known binomial coefficients). For pure mathematicians, this result may be great. But we want to really generate all the possibilities (via backtracking)."
   ]
  },
  {
   "cell_type": "markdown",
   "metadata": {
    "deletable": true,
    "editable": true
   },
   "source": [
    "与えられた要素の集まりからN個取り出した時のグループを列挙する.\n",
    "\n",
    "例えば a, b, c, d, e という候補者がいて, 3人ペアをつくった場合以下の10パターンとなる.\n",
    "1. a, b, c\n",
    "1. a, b, d\n",
    "1. a, b, e\n",
    "1. a, c, d\n",
    "1. a, c, e\n",
    "1. a, d, e\n",
    "1. b, c, d\n",
    "1. b, c, e\n",
    "1. b, d, e\n",
    "1. c, d, e\n",
    "\n",
    "---\n",
    "\n",
    "要素の集まり **elements** を定義する."
   ]
  },
  {
   "cell_type": "code",
   "execution_count": 1,
   "metadata": {
    "collapsed": false,
    "deletable": true,
    "editable": true
   },
   "outputs": [],
   "source": [
    "elements=['a', 'b', 'c', 'd', 'e']"
   ]
  },
  {
   "cell_type": "markdown",
   "metadata": {
    "deletable": true,
    "editable": true
   },
   "source": [
    "### 要素を一つ取り出しリストに追加する"
   ]
  },
  {
   "cell_type": "code",
   "execution_count": 2,
   "metadata": {
    "collapsed": false,
    "deletable": true,
    "editable": true
   },
   "outputs": [],
   "source": [
    "def step_1(x):\n",
    "    for i in range(0, len(x)):\n",
    "        add1 = [x[i]]\n",
    "        print(add1)"
   ]
  },
  {
   "cell_type": "code",
   "execution_count": 3,
   "metadata": {
    "collapsed": false,
    "deletable": true,
    "editable": true
   },
   "outputs": [
    {
     "name": "stdout",
     "output_type": "stream",
     "text": [
      "['a']\n",
      "['b']\n",
      "['c']\n",
      "['d']\n",
      "['e']\n"
     ]
    }
   ],
   "source": [
    "step_1(elements)"
   ]
  },
  {
   "cell_type": "markdown",
   "metadata": {
    "deletable": true,
    "editable": true
   },
   "source": [
    "### 更に要素を取り出しリストに追加する\n",
    "* この時, 一つ目に追加した要素が 'a' の時は 'b', 'c', 'd', 'e' の内のそれぞれ, 'b' の時は 'c', 'd', 'e' の内のそれぞれ...として取り出し追加する.  \n",
    "['a', 'b'] と ['b', 'a'] は組み合わせとしては同等なので, 考慮する必要がないため."
   ]
  },
  {
   "cell_type": "code",
   "execution_count": 4,
   "metadata": {
    "collapsed": false,
    "deletable": true,
    "editable": true
   },
   "outputs": [],
   "source": [
    "def step_2a(x):\n",
    "    # 一つ目\n",
    "    for i in range(0, len(x)):\n",
    "        add1 = [x[i]]\n",
    "        print(add1)\n",
    "        \n",
    "         # 2つ目\n",
    "        for j in range(i + 1, len(x)):\n",
    "            add2 = add1 + [x[j]]\n",
    "            print(add2)"
   ]
  },
  {
   "cell_type": "code",
   "execution_count": 5,
   "metadata": {
    "collapsed": false,
    "deletable": true,
    "editable": true
   },
   "outputs": [
    {
     "name": "stdout",
     "output_type": "stream",
     "text": [
      "['a']\n",
      "['a', 'b']\n",
      "['a', 'c']\n",
      "['a', 'd']\n",
      "['a', 'e']\n",
      "['b']\n",
      "['b', 'c']\n",
      "['b', 'd']\n",
      "['b', 'e']\n",
      "['c']\n",
      "['c', 'd']\n",
      "['c', 'e']\n",
      "['d']\n",
      "['d', 'e']\n",
      "['e']\n"
     ]
    }
   ],
   "source": [
    "step_2a(elements)"
   ]
  },
  {
   "cell_type": "markdown",
   "metadata": {
    "deletable": true,
    "editable": true
   },
   "source": [
    "2つの組み合わせがのペアができました.\n",
    "\n",
    "次は3つです."
   ]
  },
  {
   "cell_type": "code",
   "execution_count": 6,
   "metadata": {
    "collapsed": true,
    "deletable": true,
    "editable": true
   },
   "outputs": [],
   "source": [
    "def step_2b(x):\n",
    "     # 一つ目\n",
    "    for i in range(0, len(x)):\n",
    "        add1 = [x[i]]\n",
    "        print(add1)\n",
    "        \n",
    "         # 二つ目\n",
    "        for j in range(i + 1, len(x)):\n",
    "            add2 = add1 + [x[j]]\n",
    "            print(add2)\n",
    "            \n",
    "             # 三つ目\n",
    "            for k in range(j + 1, len(x)):\n",
    "                add3 = add2 + [x[k]]\n",
    "                print(add3)"
   ]
  },
  {
   "cell_type": "code",
   "execution_count": 7,
   "metadata": {
    "collapsed": false,
    "deletable": true,
    "editable": true
   },
   "outputs": [
    {
     "name": "stdout",
     "output_type": "stream",
     "text": [
      "['a']\n",
      "['a', 'b']\n",
      "['a', 'b', 'c']\n",
      "['a', 'b', 'd']\n",
      "['a', 'b', 'e']\n",
      "['a', 'c']\n",
      "['a', 'c', 'd']\n",
      "['a', 'c', 'e']\n",
      "['a', 'd']\n",
      "['a', 'd', 'e']\n",
      "['a', 'e']\n",
      "['b']\n",
      "['b', 'c']\n",
      "['b', 'c', 'd']\n",
      "['b', 'c', 'e']\n",
      "['b', 'd']\n",
      "['b', 'd', 'e']\n",
      "['b', 'e']\n",
      "['c']\n",
      "['c', 'd']\n",
      "['c', 'd', 'e']\n",
      "['c', 'e']\n",
      "['d']\n",
      "['d', 'e']\n",
      "['e']\n"
     ]
    }
   ],
   "source": [
    "step_2b(elements)"
   ]
  },
  {
   "cell_type": "markdown",
   "metadata": {
    "deletable": true,
    "editable": true
   },
   "source": [
    "3つの組み合わせがのペアもできました.\n",
    "\n",
    "ここまでで問題なのは\n",
    "* グループのサイズ は 3 で固定されており, 必要な分 for 文が必要になっている.\n",
    "    * 今回は **再帰呼び出し** で置き換える.\n",
    "\n",
    "### 関数の定義\n",
    "* 引数\n",
    "    * **size** : グループのサイズ\n",
    "    * **x** : 候補の要素のリスト\n",
    "    * **index**: **x** のどの位置から取り出すか (初期状態は0)\n",
    "    * **temp**: グループの状態 (初期状態は空)"
   ]
  },
  {
   "cell_type": "code",
   "execution_count": 8,
   "metadata": {
    "collapsed": false,
    "deletable": true,
    "editable": true
   },
   "outputs": [],
   "source": [
    "def step_3(size,  x, index=0, temp=[]):\n",
    "    for i in range(index, len(x)):\n",
    "        add = temp + [x[i]]\n",
    "        print(add)\n",
    "        \n",
    "        if len(add) < size:\n",
    "            step_3(size, x, i + 1, add)"
   ]
  },
  {
   "cell_type": "code",
   "execution_count": 9,
   "metadata": {
    "collapsed": false,
    "deletable": true,
    "editable": true
   },
   "outputs": [
    {
     "name": "stdout",
     "output_type": "stream",
     "text": [
      "['a']\n",
      "['a', 'b']\n",
      "['a', 'b', 'c']\n",
      "['a', 'b', 'd']\n",
      "['a', 'b', 'e']\n",
      "['a', 'c']\n",
      "['a', 'c', 'd']\n",
      "['a', 'c', 'e']\n",
      "['a', 'd']\n",
      "['a', 'd', 'e']\n",
      "['a', 'e']\n",
      "['b']\n",
      "['b', 'c']\n",
      "['b', 'c', 'd']\n",
      "['b', 'c', 'e']\n",
      "['b', 'd']\n",
      "['b', 'd', 'e']\n",
      "['b', 'e']\n",
      "['c']\n",
      "['c', 'd']\n",
      "['c', 'd', 'e']\n",
      "['c', 'e']\n",
      "['d']\n",
      "['d', 'e']\n",
      "['e']\n"
     ]
    }
   ],
   "source": [
    "step_3(3, elements)"
   ]
  },
  {
   "cell_type": "markdown",
   "metadata": {
    "collapsed": true,
    "deletable": true,
    "editable": true
   },
   "source": [
    "再帰に置き換えられたので, 条件を満たすもののみ表示する."
   ]
  },
  {
   "cell_type": "code",
   "execution_count": 10,
   "metadata": {
    "collapsed": true,
    "deletable": true,
    "editable": true
   },
   "outputs": [],
   "source": [
    "def step_4(size,  x, index=0, temp=[]):\n",
    "    for i in range(index, len(x)):\n",
    "        add = temp + [x[i]]\n",
    "        \n",
    "        if len(add) == size:\n",
    "            print(add)\n",
    "        elif len(add) < size:\n",
    "            step_4(size, x, i + 1, add)"
   ]
  },
  {
   "cell_type": "code",
   "execution_count": 11,
   "metadata": {
    "collapsed": false,
    "deletable": true,
    "editable": true
   },
   "outputs": [
    {
     "name": "stdout",
     "output_type": "stream",
     "text": [
      "['a', 'b', 'c']\n",
      "['a', 'b', 'd']\n",
      "['a', 'b', 'e']\n",
      "['a', 'c', 'd']\n",
      "['a', 'c', 'e']\n",
      "['a', 'd', 'e']\n",
      "['b', 'c', 'd']\n",
      "['b', 'c', 'e']\n",
      "['b', 'd', 'e']\n",
      "['c', 'd', 'e']\n"
     ]
    }
   ],
   "source": [
    "step_4(3, elements)"
   ]
  },
  {
   "cell_type": "markdown",
   "metadata": {
    "collapsed": true,
    "deletable": true,
    "editable": true
   },
   "source": [
    "最後に戻り値として返すように変更する."
   ]
  },
  {
   "cell_type": "code",
   "execution_count": 12,
   "metadata": {
    "collapsed": true,
    "deletable": true,
    "editable": true
   },
   "outputs": [],
   "source": [
    "def combination(size,  x, index=0, temp=[]):\n",
    "    ret = []\n",
    "    \n",
    "    for i in range(index, len(x)):\n",
    "        add = temp + [x[i]]\n",
    "        \n",
    "        if len(add) == size:\n",
    "            ret = ret +[add]\n",
    "        elif len(add) < size:\n",
    "            ret = ret + combination(size, x, i + 1, add)\n",
    "    \n",
    "    return ret"
   ]
  },
  {
   "cell_type": "code",
   "execution_count": 13,
   "metadata": {
    "collapsed": false,
    "deletable": true,
    "editable": true
   },
   "outputs": [
    {
     "data": {
      "text/plain": [
       "[['a', 'b', 'c'],\n",
       " ['a', 'b', 'd'],\n",
       " ['a', 'b', 'e'],\n",
       " ['a', 'c', 'd'],\n",
       " ['a', 'c', 'e'],\n",
       " ['a', 'd', 'e'],\n",
       " ['b', 'c', 'd'],\n",
       " ['b', 'c', 'e'],\n",
       " ['b', 'd', 'e'],\n",
       " ['c', 'd', 'e']]"
      ]
     },
     "execution_count": 13,
     "metadata": {},
     "output_type": "execute_result"
    }
   ],
   "source": [
    "combination(3, elements)"
   ]
  },
  {
   "cell_type": "markdown",
   "metadata": {
    "deletable": true,
    "editable": true
   },
   "source": [
    "条件を変えて実行してみます."
   ]
  },
  {
   "cell_type": "code",
   "execution_count": 14,
   "metadata": {
    "collapsed": false,
    "deletable": true,
    "editable": true
   },
   "outputs": [
    {
     "data": {
      "text/plain": [
       "[['a', 'b'],\n",
       " ['a', 'c'],\n",
       " ['a', 'd'],\n",
       " ['a', 'e'],\n",
       " ['b', 'c'],\n",
       " ['b', 'd'],\n",
       " ['b', 'e'],\n",
       " ['c', 'd'],\n",
       " ['c', 'e'],\n",
       " ['d', 'e']]"
      ]
     },
     "execution_count": 14,
     "metadata": {},
     "output_type": "execute_result"
    }
   ],
   "source": [
    "combination(2, elements)"
   ]
  },
  {
   "cell_type": "code",
   "execution_count": 15,
   "metadata": {
    "collapsed": false,
    "deletable": true,
    "editable": true
   },
   "outputs": [
    {
     "data": {
      "text/plain": [
       "[['a', 'b', 'c', 'd'],\n",
       " ['a', 'b', 'c', 'e'],\n",
       " ['a', 'b', 'd', 'e'],\n",
       " ['a', 'c', 'd', 'e'],\n",
       " ['b', 'c', 'd', 'e']]"
      ]
     },
     "execution_count": 15,
     "metadata": {},
     "output_type": "execute_result"
    }
   ],
   "source": [
    "combination(4, elements)"
   ]
  },
  {
   "cell_type": "code",
   "execution_count": 16,
   "metadata": {
    "collapsed": false,
    "deletable": true,
    "editable": true
   },
   "outputs": [
    {
     "data": {
      "text/plain": [
       "[['a', 'b', 'c', 'd', 'e']]"
      ]
     },
     "execution_count": 16,
     "metadata": {},
     "output_type": "execute_result"
    }
   ],
   "source": [
    "combination(5, elements)"
   ]
  }
 ],
 "metadata": {
  "kernelspec": {
   "display_name": "Python 3",
   "language": "python",
   "name": "python3"
  },
  "language_info": {
   "codemirror_mode": {
    "name": "ipython",
    "version": 3
   },
   "file_extension": ".py",
   "mimetype": "text/x-python",
   "name": "python",
   "nbconvert_exporter": "python",
   "pygments_lexer": "ipython3",
   "version": "3.6.4"
  }
 },
 "nbformat": 4,
 "nbformat_minor": 2
}
